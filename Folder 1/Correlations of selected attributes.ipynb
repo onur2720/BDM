{
 "cells": [
  {
   "cell_type": "code",
   "execution_count": 10,
   "id": "677bf89a",
   "metadata": {},
   "outputs": [],
   "source": [
    "import numpy as np\n",
    "import pandas as pd \n",
    "import matplotlib.pyplot as plt\n",
    "import seaborn as sns\n"
   ]
  },
  {
   "cell_type": "code",
   "execution_count": 42,
   "id": "d67bb168",
   "metadata": {
    "scrolled": true
   },
   "outputs": [
    {
     "data": {
      "text/html": [
       "<div>\n",
       "<style scoped>\n",
       "    .dataframe tbody tr th:only-of-type {\n",
       "        vertical-align: middle;\n",
       "    }\n",
       "\n",
       "    .dataframe tbody tr th {\n",
       "        vertical-align: top;\n",
       "    }\n",
       "\n",
       "    .dataframe thead th {\n",
       "        text-align: right;\n",
       "    }\n",
       "</style>\n",
       "<table border=\"1\" class=\"dataframe\">\n",
       "  <thead>\n",
       "    <tr style=\"text-align: right;\">\n",
       "      <th></th>\n",
       "      <th>Monthly rent payment</th>\n",
       "      <th>number of all rooms in the house</th>\n",
       "      <th>=1 Overcrowding by rooms</th>\n",
       "      <th>=1 has toilet in the household</th>\n",
       "      <th>=1 if the household has refrigerator</th>\n",
       "      <th>Total males in the household</th>\n",
       "      <th>Total persons in the household</th>\n",
       "      <th>years of schooling</th>\n",
       "      <th>=1 if predominant material on the outside wall is waste material</th>\n",
       "      <th>=1 if no floor at the household</th>\n",
       "    </tr>\n",
       "  </thead>\n",
       "  <tbody>\n",
       "    <tr>\n",
       "      <th>0</th>\n",
       "      <td>190000.0</td>\n",
       "      <td>3</td>\n",
       "      <td>0</td>\n",
       "      <td>1</td>\n",
       "      <td>1</td>\n",
       "      <td>1</td>\n",
       "      <td>1</td>\n",
       "      <td>10</td>\n",
       "      <td>0</td>\n",
       "      <td>0</td>\n",
       "    </tr>\n",
       "    <tr>\n",
       "      <th>1</th>\n",
       "      <td>135000.0</td>\n",
       "      <td>4</td>\n",
       "      <td>0</td>\n",
       "      <td>1</td>\n",
       "      <td>1</td>\n",
       "      <td>1</td>\n",
       "      <td>1</td>\n",
       "      <td>12</td>\n",
       "      <td>0</td>\n",
       "      <td>0</td>\n",
       "    </tr>\n",
       "    <tr>\n",
       "      <th>2</th>\n",
       "      <td>NaN</td>\n",
       "      <td>8</td>\n",
       "      <td>0</td>\n",
       "      <td>1</td>\n",
       "      <td>1</td>\n",
       "      <td>0</td>\n",
       "      <td>1</td>\n",
       "      <td>11</td>\n",
       "      <td>0</td>\n",
       "      <td>0</td>\n",
       "    </tr>\n",
       "    <tr>\n",
       "      <th>3</th>\n",
       "      <td>180000.0</td>\n",
       "      <td>5</td>\n",
       "      <td>0</td>\n",
       "      <td>1</td>\n",
       "      <td>1</td>\n",
       "      <td>2</td>\n",
       "      <td>4</td>\n",
       "      <td>9</td>\n",
       "      <td>0</td>\n",
       "      <td>0</td>\n",
       "    </tr>\n",
       "    <tr>\n",
       "      <th>4</th>\n",
       "      <td>180000.0</td>\n",
       "      <td>5</td>\n",
       "      <td>0</td>\n",
       "      <td>1</td>\n",
       "      <td>1</td>\n",
       "      <td>2</td>\n",
       "      <td>4</td>\n",
       "      <td>11</td>\n",
       "      <td>0</td>\n",
       "      <td>0</td>\n",
       "    </tr>\n",
       "  </tbody>\n",
       "</table>\n",
       "</div>"
      ],
      "text/plain": [
       "   Monthly rent payment   number of all rooms in the house  \\\n",
       "0              190000.0                                  3   \n",
       "1              135000.0                                  4   \n",
       "2                   NaN                                  8   \n",
       "3              180000.0                                  5   \n",
       "4              180000.0                                  5   \n",
       "\n",
       "   =1 Overcrowding by rooms  =1 has toilet in the household  \\\n",
       "0                         0                               1   \n",
       "1                         0                               1   \n",
       "2                         0                               1   \n",
       "3                         0                               1   \n",
       "4                         0                               1   \n",
       "\n",
       "   =1 if the household has refrigerator  Total males in the household  \\\n",
       "0                                     1                             1   \n",
       "1                                     1                             1   \n",
       "2                                     1                             0   \n",
       "3                                     1                             2   \n",
       "4                                     1                             2   \n",
       "\n",
       "   Total persons in the household  years of schooling  \\\n",
       "0                               1                  10   \n",
       "1                               1                  12   \n",
       "2                               1                  11   \n",
       "3                               4                   9   \n",
       "4                               4                  11   \n",
       "\n",
       "   =1 if predominant material on the outside wall is waste material  \\\n",
       "0                                                  0                  \n",
       "1                                                  0                  \n",
       "2                                                  0                  \n",
       "3                                                  0                  \n",
       "4                                                  0                  \n",
       "\n",
       "   =1 if no floor at the household  \n",
       "0                                0  \n",
       "1                                0  \n",
       "2                                0  \n",
       "3                                0  \n",
       "4                                0  "
      ]
     },
     "execution_count": 42,
     "metadata": {},
     "output_type": "execute_result"
    }
   ],
   "source": [
    "#load train file\n",
    "url = \"updated_train.xlsx\"\n",
    "    \n",
    "df = pd.read_excel(url)\n",
    "\n",
    "df1= df[['Monthly rent payment', ' number of all rooms in the house', '=1 Overcrowding by rooms', '=1 has toilet in the household',\n",
    " '=1 if the household has refrigerator','Total males in the household','Total persons in the household','years of schooling', '=1 if predominant material on the outside wall is waste material',\n",
    " '=1 if no floor at the household']]\n",
    "         \n",
    "df2 = df[['=1 if the house has ceiling','=1 if no water provision','=1 no electricity in the dwelling',\n",
    " '=1 no main source of energy used for cooking (no kitchen)','=1 if disable person','=1 if male']]\n",
    "\n",
    "df1.head()\n",
    "\n"
   ]
  },
  {
   "cell_type": "code",
   "execution_count": 21,
   "id": "8430de3d",
   "metadata": {},
   "outputs": [
    {
     "data": {
      "text/plain": [
       "['Id',\n",
       " 'Monthly rent payment',\n",
       " ' number of all rooms in the house',\n",
       " '=1 Overcrowding by rooms',\n",
       " '=1 has toilet in the household',\n",
       " '=1 if the household has refrigerator',\n",
       " 'Total males in the household',\n",
       " 'Total persons in the household',\n",
       " 'years of schooling',\n",
       " '=1 if predominant material on the outside wall is waste material',\n",
       " '=1 if no floor at the household',\n",
       " '=1 if the house has ceiling',\n",
       " '=1 if no water provision',\n",
       " '=1 no electricity in the dwelling',\n",
       " '=1 no main source of energy used for cooking (no kitchen)',\n",
       " '=1 if disable person',\n",
       " '=1 if male',\n",
       " '=1 if divorced',\n",
       " '=1 if widow/er',\n",
       " '=1 if single',\n",
       " 'Household level identifier',\n",
       " 'Number of children 0 to 19 in household',\n",
       " 'Dependency rate',\n",
       " 'years of education of male head of household',\n",
       " 'years of education of female head of household',\n",
       " '# persons per room',\n",
       " '=1 own and fully paid house',\n",
       " '=1 rented',\n",
       " '=1 region Central',\n",
       " '=1 region Chorotega',\n",
       " '=1 region PacÃƒÆ’Ã‚Â\\xadfico central',\n",
       " '=1 region Brunca',\n",
       " '=1 region Huetar AtlÃƒÆ’Ã‚Â¡ntica',\n",
       " '=1 region Huetar Norte',\n",
       " '=1 zona urbana',\n",
       " '=2 zona rural',\n",
       " 'Age in years',\n",
       " 'Target']"
      ]
     },
     "execution_count": 21,
     "metadata": {},
     "output_type": "execute_result"
    }
   ],
   "source": [
    "list(df)"
   ]
  },
  {
   "cell_type": "code",
   "execution_count": 44,
   "id": "846768ac",
   "metadata": {
    "scrolled": false
   },
   "outputs": [
    {
     "data": {
      "text/plain": [
       "Monthly rent payment   number of all rooms in the house       0.443\n",
       "                      =1 Overcrowding by rooms               -0.074\n",
       "                      =1 has toilet in the household          0.034\n",
       "                      =1 if the household has refrigerator    0.089\n",
       "                      Total males in the household           -0.060\n",
       "                                                              ...  \n",
       "Target                =1 region Huetar AtlÃƒÆ’Ã‚Â¡ntica      -0.090\n",
       "                      =1 region Huetar Norte                 -0.043\n",
       "                      =1 zona urbana                          0.087\n",
       "                      =2 zona rural                          -0.087\n",
       "                      Age in years                            0.118\n",
       "Length: 1042, dtype: float64"
      ]
     },
     "execution_count": 44,
     "metadata": {},
     "output_type": "execute_result"
    }
   ],
   "source": [
    "#Create a correlation matrix\n",
    "corr = df.corr(numeric_only = True).round(3)\n",
    "corr.style.background_gradient(cmap='coolwarm')"
   ]
  },
  {
   "cell_type": "code",
   "execution_count": 71,
   "id": "2638a641",
   "metadata": {},
   "outputs": [
    {
     "data": {
      "text/plain": [
       "=1 if disable person                     =1 if disable person                       1.000\n",
       "=1 if male                               =1 if male                                 1.000\n",
       "=1 if divorced                           =1 if divorced                             1.000\n",
       "=1 if widow/er                           =1 if widow/er                             1.000\n",
       "=1 if single                             =1 if single                               1.000\n",
       "Number of children 0 to 19 in household  Total persons in the household             0.751\n",
       "                                         Number of children 0 to 19 in household    1.000\n",
       "# persons per room                       # persons per room                         1.000\n",
       "=1 own and fully paid house              =1 own and fully paid house                1.000\n",
       "=1 rented                                =1 rented                                  1.000\n",
       "=1 region Central                        =1 region Central                          1.000\n",
       "=1 region Chorotega                      =1 region Chorotega                        1.000\n",
       "=1 region PacÃƒÆ’Ã‚Â­fico central        =1 region PacÃƒÆ’Ã‚Â­fico central          1.000\n",
       "=1 region Brunca                         =1 region Brunca                           1.000\n",
       "=1 region Huetar AtlÃƒÆ’Ã‚Â¡ntica        =1 region Huetar AtlÃƒÆ’Ã‚Â¡ntica          1.000\n",
       "=1 region Huetar Norte                   =1 region Huetar Norte                     1.000\n",
       "=1 zona urbana                           =1 zona urbana                             1.000\n",
       "=2 zona rural                            =2 zona rural                              1.000\n",
       "Age in years                             Age in years                               1.000\n",
       "Target                                   Target                                     1.000\n",
       "dtype: float64"
      ]
     },
     "execution_count": 71,
     "metadata": {},
     "output_type": "execute_result"
    }
   ],
   "source": [
    "thresh = 0.7\n",
    "\n",
    "#mask = corr.abs().lt(thresh)\n",
    "mask = corr > thresh\n",
    "\n",
    "df1 = corr.where(mask).stack()\n",
    "\n",
    "df1.tail(20)\n"
   ]
  },
  {
   "cell_type": "code",
   "execution_count": 75,
   "id": "a2935172",
   "metadata": {},
   "outputs": [
    {
     "ename": "TypeError",
     "evalue": "filter expected 2 arguments, got 1",
     "output_type": "error",
     "traceback": [
      "\u001b[1;31m---------------------------------------------------------------------------\u001b[0m",
      "\u001b[1;31mTypeError\u001b[0m                                 Traceback (most recent call last)",
      "Cell \u001b[1;32mIn[75], line 10\u001b[0m\n\u001b[0;32m      6\u001b[0m df2 \u001b[38;5;241m=\u001b[39m corr\u001b[38;5;241m.\u001b[39mwhere(mask)\u001b[38;5;241m.\u001b[39mstack()\n\u001b[0;32m      8\u001b[0m df2\u001b[38;5;241m.\u001b[39mhead(\u001b[38;5;241m30\u001b[39m)\n\u001b[1;32m---> 10\u001b[0m \u001b[38;5;28mfilter\u001b[39m(df2 \u001b[38;5;241m<\u001b[39m \u001b[38;5;241m0.7\u001b[39m)\n",
      "\u001b[1;31mTypeError\u001b[0m: filter expected 2 arguments, got 1"
     ]
    }
   ],
   "source": [
    "thresh = 0.5\n",
    "\n",
    "#mask = corr.abs().lt(thresh)\n",
    "mask = corr >= thresh\n",
    "\n",
    "df2 = corr.where(mask).stack()\n",
    "\n",
    "df2.head(30)\n"
   ]
  },
  {
   "cell_type": "code",
   "execution_count": 79,
   "id": "41761e97",
   "metadata": {},
   "outputs": [
    {
     "data": {
      "text/plain": [
       "Monthly rent payment                                              Monthly rent payment                                                1.000\n",
       "                                                                   number of all rooms in the house                                   0.443\n",
       " number of all rooms in the house                                 Monthly rent payment                                                0.443\n",
       "                                                                   number of all rooms in the house                                   1.000\n",
       "=1 Overcrowding by rooms                                          =1 Overcrowding by rooms                                            1.000\n",
       "                                                                  # persons per room                                                  0.530\n",
       "=1 has toilet in the household                                    =1 has toilet in the household                                      1.000\n",
       "=1 if the household has refrigerator                              =1 if the household has refrigerator                                1.000\n",
       "Total males in the household                                      Total males in the household                                        1.000\n",
       "                                                                  Total persons in the household                                      0.735\n",
       "                                                                  Number of children 0 to 19 in household                             0.467\n",
       "                                                                  # persons per room                                                  0.406\n",
       "Total persons in the household                                    Total males in the household                                        0.735\n",
       "                                                                  Total persons in the household                                      1.000\n",
       "                                                                  Number of children 0 to 19 in household                             0.751\n",
       "                                                                  # persons per room                                                  0.583\n",
       "years of schooling                                                years of schooling                                                  1.000\n",
       "=1 if predominant material on the outside wall is waste material  =1 if predominant material on the outside wall is waste material    1.000\n",
       "                                                                  =1 if no floor at the household                                     0.434\n",
       "=1 if no floor at the household                                   =1 if predominant material on the outside wall is waste material    0.434\n",
       "                                                                  =1 if no floor at the household                                     1.000\n",
       "=1 if the house has ceiling                                       =1 if the house has ceiling                                         1.000\n",
       "=1 if no water provision                                          =1 if no water provision                                            1.000\n",
       "=1 no electricity in the dwelling                                 =1 no electricity in the dwelling                                   1.000\n",
       "=1 no main source of energy used for cooking (no kitchen)         =1 no main source of energy used for cooking (no kitchen)           1.000\n",
       "dtype: float64"
      ]
     },
     "execution_count": 79,
     "metadata": {},
     "output_type": "execute_result"
    }
   ],
   "source": [
    "thresh = 0.4\n",
    "\n",
    "#mask = corr.abs().lt(thresh)\n",
    "mask = corr >= thresh\n",
    "\n",
    "df2 = corr.where(mask).stack()\n",
    "\n",
    "df2.head(25)"
   ]
  },
  {
   "cell_type": "markdown",
   "id": "2886c2df",
   "metadata": {},
   "source": [
    "# \"Critical correlations\" \n",
    "\n",
    "**Above 0.7**\n",
    "\n",
    "\n",
    "| Variable 1 | Variable 2  | Correlation|\n",
    "| --- | --- | --- |\n",
    "| Total persons in the household | Total males in the household  | 0.735|\n",
    "| Total persons in the household | Number of children 0 to 19 in household |   0.751|\n",
    "\n",
    "\n",
    "**Above 0.5**\n",
    "\n",
    "| Variable 1 | Variable 2  | Correlation|\n",
    "| --- | --- | --- |\n",
    "| #persons per room   | =1 Overcrowding by rooms       |            0.530|\n",
    "| ---|   Total persons in the household         |    0.583|\n",
    "| --- | Number of children 0 to 19 in household  |  0.596|\n",
    "                                         \n",
    "                                         \n",
    "**Above 0.4**\n",
    "\n",
    "| Variable 1 | Variable 2  | Correlation|\n",
    "| --- | --- | --- |\n",
    "|#persons per room  |                    Total males in the household|             0.406|\n",
    "| Number of children 0 to 19 in household |Total males in the household   |          0.467|\n",
    "|Monthly rent payment              |     number of all rooms in the house  |        0.443|\n",
    "| 1 if predominant material on the outside wall is waste material   |=1 if no floor at the household   |        0.434|"
   ]
  }
 ],
 "metadata": {
  "kernelspec": {
   "display_name": "Python 3 (ipykernel)",
   "language": "python",
   "name": "python3"
  },
  "language_info": {
   "codemirror_mode": {
    "name": "ipython",
    "version": 3
   },
   "file_extension": ".py",
   "mimetype": "text/x-python",
   "name": "python",
   "nbconvert_exporter": "python",
   "pygments_lexer": "ipython3",
   "version": "3.11.4"
  }
 },
 "nbformat": 4,
 "nbformat_minor": 5
}
