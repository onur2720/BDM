{
 "cells": [
  {
   "cell_type": "code",
   "execution_count": 1,
   "id": "f0227ca6",
   "metadata": {},
   "outputs": [],
   "source": [
    "import pandas as pd\n",
    "\n",
    "# Read the train file\n",
    "train_file = pd.read_csv('train.csv')\n",
    "\n",
    "# Read the correspondence file\n",
    "correspondences = pd.read_csv('Correspondences.csv', sep = \";\")\n",
    "\n",
    "# Create a dictionary of correspondence between the columns\n",
    "correspondence_dict = dict(zip(correspondences['OldName'], correspondences['NewName']))\n",
    "\n",
    "# Replace the name of the columns in the train file\n",
    "train_file.rename(columns=correspondence_dict, inplace=True)\n",
    "\n",
    "# Save the file with the updated column names \n",
    "train_file.to_csv('updated_train.csv', index=False)\n",
    "\n",
    "\n",
    "# Same process but for the test file \n",
    "test_file = pd.read_csv('test.csv')\n",
    "\n",
    "\n",
    "# Replace the name of the columns in the train file\n",
    "test_file.rename(columns=correspondence_dict, inplace=True)\n",
    "\n",
    "# Save the file with the updated column names \n",
    "test_file.to_csv('updated_test.csv', index=False)"
   ]
  }
 ],
 "metadata": {
  "kernelspec": {
   "display_name": "Python 3 (ipykernel)",
   "language": "python",
   "name": "python3"
  },
  "language_info": {
   "codemirror_mode": {
    "name": "ipython",
    "version": 3
   },
   "file_extension": ".py",
   "mimetype": "text/x-python",
   "name": "python",
   "nbconvert_exporter": "python",
   "pygments_lexer": "ipython3",
   "version": "3.11.4"
  }
 },
 "nbformat": 4,
 "nbformat_minor": 5
}
